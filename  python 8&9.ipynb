{
 "cells": [
  {
   "cell_type": "code",
   "execution_count": 12,
   "id": "e6f51930-deaa-4ca5-83f1-35bb6d1956a0",
   "metadata": {},
   "outputs": [
    {
     "name": "stdout",
     "output_type": "stream",
     "text": [
      "19\n"
     ]
    }
   ],
   "source": [
    "#find the max sum of any 3 consecutive elements of this array\n",
    "\n",
    "l=[2,4,6,1,3,7,4,6,9,3,6,8,3,6,4,1,3,9,6,4,5,6,8,3,7,3,6,8]\n",
    "max=0\n",
    "\n",
    "\n",
    "for x in range (0,len(l)-2):\n",
    "    sum=l[x]+l[x+1]+l[x+2]\n",
    "    if(max<sum):\n",
    "        max=sum\n",
    "\n",
    "print(max)\n"
   ]
  },
  {
   "cell_type": "code",
   "execution_count": 33,
   "id": "83409725-2ef3-4391-ac63-8a40d407215d",
   "metadata": {},
   "outputs": [
    {
     "name": "stdin",
     "output_type": "stream",
     "text": [
      "enter the no of elements 6\n"
     ]
    },
    {
     "name": "stdout",
     "output_type": "stream",
     "text": [
      "38\n"
     ]
    }
   ],
   "source": [
    "l=[2,4,6,1,3,7,4,6,9,3,6,8,3,6,4,1,3,9,6,4,5,6,8,3,7,3,6,8]\n",
    "n=int(input(\"enter the no of elements\"))\n",
    "max=0\n",
    "for x in range(0,len(l)-(n-1)):\n",
    "    sum=l[x]+l[x+1]+l[x+2]+l[x+3]+l[x+4]+l[x+5]\n",
    "    if(max<sum):\n",
    "        max=sum\n",
    "\n",
    "print(max)"
   ]
  },
  {
   "cell_type": "code",
   "execution_count": 42,
   "id": "bbe21453-4673-4934-9cdd-e77de5f05a4f",
   "metadata": {},
   "outputs": [
    {
     "name": "stdin",
     "output_type": "stream",
     "text": [
      "enter the no of elements 10\n"
     ]
    },
    {
     "name": "stdout",
     "output_type": "stream",
     "text": [
      "57\n"
     ]
    }
   ],
   "source": [
    "l=[2,4,6,1,3,7,4,6,9,3,6,8,3,6,4,1,3,9,6,4,5,6,8,3,7,3,6,8]\n",
    "n=int(input(\"enter the no of elements\"))\n",
    "\n",
    "for x in range(0,len(l)-n):\n",
    "    s=0\n",
    "    for j in range(0,n):\n",
    "        s=s+l[x+j]\n",
    "    if(max<s):\n",
    "        max=s\n",
    "\n",
    "print(max)"
   ]
  },
  {
   "cell_type": "code",
   "execution_count": 48,
   "id": "cfa76c86-5758-46f4-81e1-ed8c1a95d724",
   "metadata": {},
   "outputs": [
    {
     "name": "stdin",
     "output_type": "stream",
     "text": [
      "enter the no of elements 10\n"
     ]
    },
    {
     "name": "stdout",
     "output_type": "stream",
     "text": [
      "56\n"
     ]
    }
   ],
   "source": [
    "l=[2,4,6,1,3,7,4,6,9,3,6,8,3,6,4,1,3,9,6,4,5,6,8,3,7,3,6,8]\n",
    "max = s = 0\n",
    "n=int(input(\"enter the no of elements\"))\n",
    "\n",
    "for i in range(0,n):\n",
    "    s=s+l[i]\n",
    "for x in range(0,len(l)-n-1):\n",
    "    if(max<s):\n",
    "       max=s  \n",
    "    s=s+l[x+n]-l[x]\n",
    "\n",
    "print(max)"
   ]
  },
  {
   "cell_type": "code",
   "execution_count": 2,
   "id": "ceafb624-4652-44f8-8e2f-31879e5dde6a",
   "metadata": {},
   "outputs": [
    {
     "name": "stdout",
     "output_type": "stream",
     "text": [
      "[21, 33, 45, 55, 89, 90]\n"
     ]
    }
   ],
   "source": [
    "#bubble sort\n",
    "\n",
    "l=[45,89,55,33,21,90]                  \n",
    "\n",
    "for i in range(0,6):\n",
    "    for j in range(0,5):\n",
    "        if(l[j]>l[j+1]):\n",
    "            temp=l[j]\n",
    "            l[j]=l[j+1]\n",
    "            l[j+1]=temp\n",
    "\n",
    "\n",
    "print(l)\n",
    "\n",
    "\n",
    "\n",
    "\n"
   ]
  },
  {
   "cell_type": "code",
   "execution_count": 10,
   "id": "900dc7cc-1058-4504-9466-373c70f32189",
   "metadata": {},
   "outputs": [
    {
     "name": "stdout",
     "output_type": "stream",
     "text": [
      "[90, 89, 55, 45, 33, 21]\n"
     ]
    }
   ],
   "source": [
    "#REVERSE OF LIST\n",
    "\n",
    "l=[45,89,55,33,21,90]                  \n",
    "\n",
    "for i in range(0,6):\n",
    "    for j in range(0,5):\n",
    "        if(l[j]<l[j+1]):\n",
    "            temp=l[j]\n",
    "            l[j]=l[j+1]\n",
    "            l[j+1]=temp\n",
    "\n",
    "\n",
    "print(l)"
   ]
  },
  {
   "cell_type": "code",
   "execution_count": 9,
   "id": "08a33ad3-d10a-4ddf-a5db-ee2e88dfe874",
   "metadata": {},
   "outputs": [
    {
     "name": "stdout",
     "output_type": "stream",
     "text": [
      "[21, 33, 45, 55, 89, 90]\n"
     ]
    }
   ],
   "source": [
    "#insertion sort\n",
    "l=[45,89,55,33,21,90]       \n",
    "for i in range(1,6):\n",
    "    temp=l[i]\n",
    "    j=i-1\n",
    "    while j>=0 and temp < l[j]:\n",
    "        l[j+1] =l[j]\n",
    "        j-=1\n",
    "        l[j+1] = temp\n",
    "\n",
    "print(l)\n",
    "\n"
   ]
  },
  {
   "cell_type": "code",
   "execution_count": 34,
   "id": "009e3206-5503-41fc-8200-2f18ce4752b4",
   "metadata": {},
   "outputs": [
    {
     "name": "stdout",
     "output_type": "stream",
     "text": [
      "[21, 33, 45, 55, 89, 90]\n"
     ]
    }
   ],
   "source": [
    "#selection sort\n",
    "arr=[45,89,55,33,21,90]\n",
    "\n",
    "for i in range(0,6):\n",
    "    min_idx=i\n",
    "    for j in range(i+1,len(arr)):\n",
    "        if arr[min_idx]>arr[j]:\n",
    "            min_idx=j\n",
    "    temp=arr[i]\n",
    "    arr[i]=arr[min_idx]\n",
    "    arr[min_idx]=temp\n",
    "\n",
    "print(arr)\n",
    "\n"
   ]
  },
  {
   "cell_type": "code",
   "execution_count": 30,
   "id": "629cf722-345f-4d81-a289-0f104d5e452a",
   "metadata": {},
   "outputs": [
    {
     "name": "stdout",
     "output_type": "stream",
     "text": [
      "[21, 33, 45, 55, 89, 90]\n"
     ]
    }
   ],
   "source": [
    "# quick sort\n",
    "\n",
    "l=[45,89,55,33,21,90]\n",
    "def quicksort(l):\n",
    "    if len(l) <= 1:\n",
    "     return l\n",
    "   \n",
    "    else:\n",
    "        pivot=l[0]\n",
    "        left=[x for x in l[1:]if x <=pivot]\n",
    "        right=[x for x in l[1:]if x>=pivot]\n",
    "        return quicksort(left)+[pivot]+quicksort(right)\n",
    "       \n",
    "sorted_l=quicksort(l)\n",
    "print(sorted_l)\n"
   ]
  },
  {
   "cell_type": "code",
   "execution_count": 16,
   "id": "98aedcaf-8033-472d-b407-5e2884474180",
   "metadata": {},
   "outputs": [
    {
     "name": "stdout",
     "output_type": "stream",
     "text": [
      "[1, 3, 5, 7, 8, 31]\n"
     ]
    },
    {
     "name": "stdin",
     "output_type": "stream",
     "text": [
      " 31\n"
     ]
    },
    {
     "name": "stdout",
     "output_type": "stream",
     "text": [
      "index of element is 5\n",
      "low 0 high 6 mid 3\n",
      "low 4 high 6 mid 5\n",
      "element found at  5\n"
     ]
    }
   ],
   "source": [
    "#BINARY SEARCH\n",
    "\n",
    "l=[3,5,7,8,31,1]\n",
    "l.sort()\n",
    "print(l)\n",
    "low=0\n",
    "high=len(l)\n",
    "src=int(input())\n",
    "try:\n",
    "    print(\"index of element is\",l.index(src))\n",
    "except:\n",
    "    print(\"item not in list\")\n",
    "Flag=0\n",
    "\n",
    "while low<=high:\n",
    "   mid=int(low+(high-low)/2)\n",
    "   print(\"low\",low,\"high\",high,\"mid\",mid)\n",
    "   if src<l[mid]:\n",
    "      high=mid-1\n",
    "   elif src>l[mid]:\n",
    "       low=mid+1\n",
    "   else:\n",
    "      Flag=1\n",
    "      break;\n",
    "\n",
    "if Flag==1:\n",
    "    print(\"element found at \",mid)\n",
    "-\n",
    "else:\n",
    "    print(\"element not found\")\n",
    "    \n",
    "\n"
   ]
  },
  {
   "cell_type": "code",
   "execution_count": 50,
   "id": "2a59d107-9fb6-4673-b3cb-813bd82bf66c",
   "metadata": {},
   "outputs": [
    {
     "name": "stdin",
     "output_type": "stream",
     "text": [
      " this is (my [cat]\n"
     ]
    },
    {
     "name": "stdout",
     "output_type": "stream",
     "text": [
      "invalid string\n"
     ]
    }
   ],
   "source": [
    "#valid string\n",
    "\n",
    "s=input()\n",
    "x=y=z=0\n",
    "for c in s:\n",
    "    match(c):\n",
    "         case '(':x+=1\n",
    "         case ')':x-=1\n",
    "         case '{':y+=1\n",
    "         case '}':y-=1\n",
    "         case '[':z+=1\n",
    "         case ']':z-=1\n",
    "         case  _:continue\n",
    "\n",
    "if x+y+z == 0:\n",
    "    print(\"valid string\")\n",
    "\n",
    "else:\n",
    "    print(\"invalid string\")\n",
    "\n"
   ]
  },
  {
   "cell_type": "code",
   "execution_count": 72,
   "id": "04f00450-b929-42fb-bad5-bc176d4fdd45",
   "metadata": {},
   "outputs": [
    {
     "name": "stdin",
     "output_type": "stream",
     "text": [
      "enter the element 4\n"
     ]
    },
    {
     "name": "stdout",
     "output_type": "stream",
     "text": [
      "[1, 2, 3, 4]\n",
      "[1, 2, 3]\n"
     ]
    }
   ],
   "source": [
    "s=[1,2,3]\n",
    "n=int(input(\"enter the element\"))\n",
    "s.append(n)\n",
    "print(s)\n",
    "s.pop()\n",
    "print(s)\n",
    "    \n",
    "    "
   ]
  },
  {
   "cell_type": "code",
   "execution_count": 78,
   "id": "ccc91360-b5c0-4034-9fcb-d69c17d4c9c6",
   "metadata": {},
   "outputs": [
    {
     "name": "stdout",
     "output_type": "stream",
     "text": [
      "item added to stack\n",
      "item added to stack\n",
      "item added to stack\n",
      "[5, 2, 3]\n",
      "deleted item is\n",
      "[5, 2]\n"
     ]
    }
   ],
   "source": [
    "#using stack\n",
    "def add(E):\n",
    "    s.append(E)\n",
    "    print(\"item added to stack\")\n",
    "\n",
    "def delete():\n",
    "    s.pop()\n",
    "    print(\"deleted item is\")\n",
    "\n",
    "s=[]\n",
    "add(5)\n",
    "add(2)\n",
    "add(3)\n",
    "print(s)\n",
    "\n",
    "delete()\n",
    "print(s)\n"
   ]
  },
  {
   "cell_type": "code",
   "execution_count": 9,
   "id": "75c9d26a-4285-4ebe-8e3f-6997931c58ba",
   "metadata": {},
   "outputs": [
    {
     "name": "stdin",
     "output_type": "stream",
     "text": [
      "enter the elements  3 4 5 \n",
      "enter the value to be inserted 6\n"
     ]
    },
    {
     "name": "stdout",
     "output_type": "stream",
     "text": [
      "queue after adding:  ['3', '4', '5', 6]\n",
      "removed element is 3\n",
      "queue after deleting:  ['4', '5', 6]\n"
     ]
    }
   ],
   "source": [
    "queue=input(\"enter the elements\").split()\n",
    "def add():\n",
    "    value=int(input(\"enter the value to be inserted\"))\n",
    "    queue.append(value)\n",
    "    return queue\n",
    "\n",
    "def delete():\n",
    "    value=queue.pop(0)\n",
    "    print(\"removed element is\",value)\n",
    "    return queue\n",
    "    \n",
    "\n",
    "print(\"queue after adding: \",add())\n",
    "print(\"queue after deleting: \",delete())\n"
   ]
  },
  {
   "cell_type": "code",
   "execution_count": null,
   "id": "7d3fa5d8-476d-43ec-821e-80a8c8d2629f",
   "metadata": {},
   "outputs": [],
   "source": []
  }
 ],
 "metadata": {
  "kernelspec": {
   "display_name": "Python 3 (ipykernel)",
   "language": "python",
   "name": "python3"
  },
  "language_info": {
   "codemirror_mode": {
    "name": "ipython",
    "version": 3
   },
   "file_extension": ".py",
   "mimetype": "text/x-python",
   "name": "python",
   "nbconvert_exporter": "python",
   "pygments_lexer": "ipython3",
   "version": "3.12.3"
  }
 },
 "nbformat": 4,
 "nbformat_minor": 5
}

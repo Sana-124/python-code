{
 "cells": [
  {
   "cell_type": "code",
   "execution_count": 2,
   "id": "da387bd3-1249-4fd0-b836-4fa0ba7ab2f1",
   "metadata": {},
   "outputs": [
    {
     "name": "stdin",
     "output_type": "stream",
     "text": [
      "Enter the number of students:  3\n",
      "Enter student name:  sana\n",
      "Enter student grade:  A\n",
      "Enter student name:  sneha\n",
      "Enter student grade:  A+\n",
      "Enter student name:  rahul\n",
      "Enter student grade:  B\n"
     ]
    },
    {
     "name": "stdout",
     "output_type": "stream",
     "text": [
      "Average grade: 1.3333333333333333\n"
     ]
    }
   ],
   "source": [
    "grades_dict = {}\n",
    "\n",
    "# Get the number of students\n",
    "num_students = int(input(\"Enter the number of students: \"))\n",
    "\n",
    "# Populate the dictionary with student names and grades\n",
    "for _ in range(num_students):\n",
    "    name = input(\"Enter student name: \")\n",
    "    grade =input(\"Enter student grade: \")\n",
    "    grades_dict[name] = grade\n",
    "\n",
    "# Calculate the average grade\n",
    "total_grade = 0\n",
    "count = 0\n",
    "for grade in grades_dict.values():\n",
    "    total_grade=total_grade+len(grade)\n",
    "    count=count+ 1\n",
    "\n",
    "if count > 0:\n",
    "    average_grade = total_grade / count\n",
    "    print(\"Average grade:\", average_grade)\n",
    "else:\n",
    "    print(\"Dictionary is empty!\")"
   ]
  },
  {
   "cell_type": "code",
   "execution_count": 1,
   "id": "b11cd1cc-ca39-4e97-bf09-08f2d4aad779",
   "metadata": {},
   "outputs": [
    {
     "name": "stdout",
     "output_type": "stream",
     "text": [
      "[2, 5, 7, 8, 'sana']\n",
      "not numeric\n",
      "sum:  22\n"
     ]
    }
   ],
   "source": [
    "x=[2,5,7,8,'sana']\n",
    "print(x)\n",
    "sum=0\n",
    "try:\n",
    "    for i in x:\n",
    "        sum+=int(i)\n",
    "except ValueError:\n",
    "    print('not numeric')\n",
    "print('sum: ',sum)"
   ]
  },
  {
   "cell_type": "code",
   "execution_count": 1,
   "id": "13e85d9a-975c-43e9-9a75-9f4341e7ac9b",
   "metadata": {},
   "outputs": [
    {
     "name": "stdin",
     "output_type": "stream",
     "text": [
      " 43\n"
     ]
    },
    {
     "name": "stdout",
     "output_type": "stream",
     "text": [
      "34\n"
     ]
    }
   ],
   "source": [
    "n=int(input())  #reverse a digit of num\n",
    "rev=0\n",
    "while n>0:\n",
    "    rem=n%10\n",
    "    rev=rev*10+rem\n",
    "    n=n//10\n",
    "print(rev)"
   ]
  },
  {
   "cell_type": "code",
   "execution_count": 2,
   "id": "a874a371-f0ab-4b55-9831-6650842bb2a5",
   "metadata": {},
   "outputs": [
    {
     "name": "stdin",
     "output_type": "stream",
     "text": [
      " 23\n"
     ]
    },
    {
     "name": "stdout",
     "output_type": "stream",
     "text": [
      "is prime\n"
     ]
    }
   ],
   "source": [
    "n=int(input())  #prime or not\n",
    "for i in range(2,n):\n",
    "    if n%i==0:\n",
    "        print(\"not prime\")\n",
    "        break; \n",
    "else:\n",
    "        print(\"is prime\")"
   ]
  },
  {
   "cell_type": "code",
   "execution_count": 3,
   "id": "83e2ef91-99f0-439a-8f06-28e59e7eb60c",
   "metadata": {},
   "outputs": [
    {
     "name": "stdin",
     "output_type": "stream",
     "text": [
      " 34\n"
     ]
    },
    {
     "name": "stdout",
     "output_type": "stream",
     "text": [
      "43\n",
      "not palindrome\n"
     ]
    }
   ],
   "source": [
    "n=int(input())  #palindrome of num\n",
    "m=n\n",
    "rev=0\n",
    "while n>0:\n",
    "       rem=n%10\n",
    "       rev=rev*10+rem\n",
    "       n=n//10\n",
    "print(rev)\n",
    "if rev==m:\n",
    "   print(\"palindrome\")\n",
    "else:\n",
    "   print(\"not palindrome\")\n",
    "       "
   ]
  },
  {
   "cell_type": "code",
   "execution_count": 4,
   "id": "a673d9dd-e8e9-4a10-b8ec-c8ff574ece68",
   "metadata": {},
   "outputs": [
    {
     "name": "stdin",
     "output_type": "stream",
     "text": [
      " 3\n"
     ]
    },
    {
     "name": "stdout",
     "output_type": "stream",
     "text": [
      "6\n"
     ]
    }
   ],
   "source": [
    "#factorial of num\n",
    "\n",
    "n=int(input())\n",
    "fact=1\n",
    "for i in range(1,n+1): #or (n,0,-1)can be used\n",
    "    fact=fact*i\n",
    "print(fact)"
   ]
  },
  {
   "cell_type": "code",
   "execution_count": 5,
   "id": "f08dad31-f7d7-4b9d-82d7-fa21dd5dd62a",
   "metadata": {},
   "outputs": [
    {
     "name": "stdin",
     "output_type": "stream",
     "text": [
      "enter the string:  snn\n"
     ]
    },
    {
     "name": "stdout",
     "output_type": "stream",
     "text": [
      "given string is not palindrome\n"
     ]
    }
   ],
   "source": [
    "a=input(\"enter the string: \") #palindrome of string\n",
    "s=a[::-1]\n",
    "if a==s:\n",
    "    print(\"given string is palindrome\")\n",
    "else:\n",
    "    print(\"given string is not palindrome\")"
   ]
  },
  {
   "cell_type": "code",
   "execution_count": 6,
   "id": "7f7dbc76-8a15-4959-9ac2-6e8ce7bac6fa",
   "metadata": {},
   "outputs": [
    {
     "name": "stdin",
     "output_type": "stream",
     "text": [
      "enter a character:  nn\n"
     ]
    },
    {
     "name": "stdout",
     "output_type": "stream",
     "text": [
      "lower case\n"
     ]
    }
   ],
   "source": [
    "a=input(\"enter a character: \") #to check char by the user as lower,upper case nd numerics,spl char\n",
    "\n",
    "if a==a.lower():\n",
    "    print(\"lower case\")\n",
    "elif a==a.upper():\n",
    "    print(\"upper case\")"
   ]
  },
  {
   "cell_type": "code",
   "execution_count": 7,
   "id": "a244b3de-8202-49f8-b101-0a44dbddea30",
   "metadata": {},
   "outputs": [
    {
     "name": "stdin",
     "output_type": "stream",
     "text": [
      " 3\n",
      " 3\n"
     ]
    },
    {
     "name": "stdout",
     "output_type": "stream",
     "text": [
      "1.add\n",
      "2.sub\n",
      "3.mul\n",
      "4.div\n",
      "5.mod\n",
      "6.pow\n",
      "\n"
     ]
    },
    {
     "name": "stdin",
     "output_type": "stream",
     "text": [
      "enter your choice:  1\n"
     ]
    },
    {
     "name": "stdout",
     "output_type": "stream",
     "text": [
      "6\n"
     ]
    }
   ],
   "source": [
    "#menu driven code to perform basic mathematics operations like '+','-','*','/','%','^'\n",
    "\n",
    "a=int(input())\n",
    "b=int(input())\n",
    "print(\"1.add\\n2.sub\\n3.mul\\n4.div\\n5.mod\\n6.pow\\n\")\n",
    "c=int(input(\"enter your choice: \"))\n",
    "match c:\n",
    "      case 1:print(a+b)\n",
    "      case 2:print(a-b)    \n",
    "      case 3:print(a*b)\n",
    "      case 4:print(a/b)\n",
    "      case 5:print(a%b)\n",
    "      case 6:print(a**b) \n",
    "      case _:print(\"invalid\")\n",
    "    "
   ]
  },
  {
   "cell_type": "code",
   "execution_count": null,
   "id": "5bf77aa6-ffee-4ba6-8cba-0176018c8914",
   "metadata": {},
   "outputs": [],
   "source": []
  }
 ],
 "metadata": {
  "kernelspec": {
   "display_name": "Python 3 (ipykernel)",
   "language": "python",
   "name": "python3"
  },
  "language_info": {
   "codemirror_mode": {
    "name": "ipython",
    "version": 3
   },
   "file_extension": ".py",
   "mimetype": "text/x-python",
   "name": "python",
   "nbconvert_exporter": "python",
   "pygments_lexer": "ipython3",
   "version": "3.12.3"
  }
 },
 "nbformat": 4,
 "nbformat_minor": 5
}

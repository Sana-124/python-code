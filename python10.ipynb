{
 "cells": [
  {
   "cell_type": "code",
   "execution_count": 11,
   "id": "0f138aac-cb0c-4017-be8c-31fde8c96836",
   "metadata": {},
   "outputs": [
    {
     "name": "stdin",
     "output_type": "stream",
     "text": [
      " this is cat\n"
     ]
    },
    {
     "name": "stdout",
     "output_type": "stream",
     "text": [
      "tac si siht"
     ]
    }
   ],
   "source": [
    "#reversing string using stack(letter)\n",
    "a=input()\n",
    "s=[]\n",
    "for e in a:\n",
    "    s.append(e)\n",
    "\n",
    "while len(s)>0:\n",
    "    print(s.pop(),end=\"\")"
   ]
  },
  {
   "cell_type": "code",
   "execution_count": 18,
   "id": "2603e393-54c0-4fad-b1e7-83262ef30d4f",
   "metadata": {},
   "outputs": [
    {
     "name": "stdin",
     "output_type": "stream",
     "text": [
      " this is cat\n"
     ]
    },
    {
     "name": "stdout",
     "output_type": "stream",
     "text": [
      "cat is this "
     ]
    }
   ],
   "source": [
    "#reversing string using stack(word)\n",
    "a=input()\n",
    "s=[]\n",
    "for e in a.split():\n",
    "    s.append(e)\n",
    "\n",
    "while len(s)>0:\n",
    "    print(s.pop(),end=\" \")"
   ]
  },
  {
   "cell_type": "code",
   "execution_count": 25,
   "id": "44f11a5b-9864-4f43-9846-e92ebe995a20",
   "metadata": {},
   "outputs": [
    {
     "name": "stdin",
     "output_type": "stream",
     "text": [
      " (a+b)*c\n"
     ]
    },
    {
     "name": "stdout",
     "output_type": "stream",
     "text": [
      " ab+c*\n"
     ]
    }
   ],
   "source": [
    "#infix to postfix\n",
    "\n",
    "def prec(char):\n",
    "    if char==\"^\":\n",
    "        return 3\n",
    "    elif char==\"*\" or char  == \"/\":\n",
    "        return 2\n",
    "    elif char == \"+\" or char == \"-\":\n",
    "        return 1\n",
    "    else:\n",
    "        return -1\n",
    "\n",
    "exp=input()\n",
    "stack=[]\n",
    "postfix=' '\n",
    "for char in exp:\n",
    "    if char.isalnum():\n",
    "         postfix+=char\n",
    "    elif char =='(':\n",
    "        stack.append(char)\n",
    "    elif char ==  ')' : \n",
    "         while stack[-1] !='(':\n",
    "             postfix+=stack.pop()\n",
    "         stack.pop()\n",
    "    else:\n",
    "        while stack and (prec(char)<prec(stack[-1]) or\n",
    "                         (prec(char)==prec(stack[-1])and asoc(char)=='L')):\n",
    "            postfix+=stack.pop()\n",
    "\n",
    "        stack.append(char)\n",
    "while stack:\n",
    "    postfix+=stack.pop() \n",
    "\n",
    "print(postfix)"
   ]
  },
  {
   "cell_type": "code",
   "execution_count": 28,
   "id": "6c97023b-dfb5-4cf8-930a-8cd017d1c2ec",
   "metadata": {},
   "outputs": [
    {
     "name": "stdin",
     "output_type": "stream",
     "text": [
      " A D C R R  A A D R D C C\n"
     ]
    },
    {
     "name": "stdout",
     "output_type": "stream",
     "text": [
      "['A', 'D', 'C', 'R', 'R', 'A', 'A', 'D', 'R', 'D', 'C', 'C']\n",
      "6 ['A', 'D', 'C', 'D', 'R', 'D']\n"
     ]
    }
   ],
   "source": [
    "#in a arcade game, there is a king who got spelled by a which that whenever he eat he have to take care of what is sequence of his food intake.\n",
    "#if he eats similar food one after other it will cancel out the its effect and total energy was decreased.\n",
    "#your task is to determine the total energy of the king after his meal\n",
    "\n",
    "#example:\n",
    "#[\"apple\",\"dal\",\"chapati\",\"rice\",\"rice\",\"apple\",\"apple\",\"dal\",\"rice\",\"dal\",\"chapati\",\"chapati\"]\n",
    "\n",
    "#consider that energy relaesed by each item will be same which is 1 unit\n",
    "\n",
    "#so that total energy intake is 6 unit as per above example.\n",
    "#[\"apple\",\"dal\",\"chapati\",\"dal\",\"rice\",\"dal\"]\n",
    "\n",
    "#write a code to find the energy stored by the king after have all the food.\n",
    "\n",
    "a=[item for item in input().split()]\n",
    "print(a)\n",
    "s=[]\n",
    "for item in a:\n",
    "    if not s:\n",
    "        s.append(item)\n",
    "    elif s[-1] == item:\n",
    "        s.pop()\n",
    "    else:\n",
    "        s.append(item)\n",
    "        \n",
    "print(len(s),s)\n",
    "\n",
    "\n"
   ]
  },
  {
   "cell_type": "code",
   "execution_count": 25,
   "id": "a0b82ecd-dd35-47ab-bb9f-6184c40ae58e",
   "metadata": {},
   "outputs": [
    {
     "name": "stdin",
     "output_type": "stream",
     "text": [
      " {}[](\n"
     ]
    },
    {
     "name": "stdout",
     "output_type": "stream",
     "text": [
      "invalid\n"
     ]
    }
   ],
   "source": [
    "s=input()\n",
    "\n",
    "stack=[]\n",
    "\n",
    "for c in s:\n",
    "    if c =='(' or c =='{' or c =='[':\n",
    "        stack.append(c)\n",
    "    elif (c ==')' and stack[-1] =='(')or (c =='}' and stack[-1] =='{') or (c ==']'and stack[-1] =='['):\n",
    "            stack.pop()\n",
    "    else:\n",
    "        continue\n",
    "\n",
    "if not stack:\n",
    "    print(\"valid\")\n",
    "\n",
    "else:\n",
    "    print(\"invalid\")\n",
    "       \n",
    "\n"
   ]
  },
  {
   "cell_type": "code",
   "execution_count": null,
   "id": "805e245c-ed47-467a-ba31-b8bbd338b5a4",
   "metadata": {},
   "outputs": [],
   "source": []
  }
 ],
 "metadata": {
  "kernelspec": {
   "display_name": "Python 3 (ipykernel)",
   "language": "python",
   "name": "python3"
  },
  "language_info": {
   "codemirror_mode": {
    "name": "ipython",
    "version": 3
   },
   "file_extension": ".py",
   "mimetype": "text/x-python",
   "name": "python",
   "nbconvert_exporter": "python",
   "pygments_lexer": "ipython3",
   "version": "3.12.3"
  }
 },
 "nbformat": 4,
 "nbformat_minor": 5
}

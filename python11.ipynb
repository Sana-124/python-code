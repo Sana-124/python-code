{
 "cells": [
  {
   "cell_type": "code",
   "execution_count": 3,
   "id": "595bcc13-5b81-4e23-9691-995a7fa24340",
   "metadata": {},
   "outputs": [
    {
     "name": "stdout",
     "output_type": "stream",
     "text": [
      "2\n",
      "4\n",
      "6\n",
      "8\n",
      "10\n",
      "12\n",
      "14\n",
      "16\n",
      "18\n",
      "20\n"
     ]
    }
   ],
   "source": [
    "#loops\n",
    "for i in range(1,11):\n",
    "    print(i*2)"
   ]
  },
  {
   "cell_type": "code",
   "execution_count": 50,
   "id": "84b02e0a-33f9-4b9d-b549-e0b3bd3208b0",
   "metadata": {},
   "outputs": [
    {
     "name": "stdin",
     "output_type": "stream",
     "text": [
      " 2\n"
     ]
    },
    {
     "name": "stdout",
     "output_type": "stream",
     "text": [
      "4\n",
      "6\n",
      "8\n",
      "10\n",
      "12\n",
      "14\n",
      "16\n",
      "18\n",
      "20\n",
      "2 None\n"
     ]
    }
   ],
   "source": [
    "#loop into recursion\n",
    "\n",
    "def fun(i):\n",
    "    if i==11:\n",
    "        return\n",
    "    print(i*2)\n",
    "    i=i+1\n",
    "    fun(i)\n",
    "    return\n",
    "\n",
    "i=int(input())\n",
    "print(i,fun(i))"
   ]
  },
  {
   "cell_type": "code",
   "execution_count": 43,
   "id": "f215b1de-dc47-4296-abad-e9d6dd7c59c9",
   "metadata": {},
   "outputs": [
    {
     "name": "stdin",
     "output_type": "stream",
     "text": [
      "enter the value of i 5\n"
     ]
    },
    {
     "name": "stdout",
     "output_type": "stream",
     "text": [
      "factorial of no 5 is 120\n"
     ]
    }
   ],
   "source": [
    "#factorial\n",
    "\n",
    "def fact(i):\n",
    "    if i==1:\n",
    "       return 1\n",
    "    else:\n",
    "        return i*fact(i-1)\n",
    "        fact(i)\n",
    "i= int(input(\"enter the value of i\"))\n",
    "print(\"factorial of no\",i,\"is\",fact(i))"
   ]
  },
  {
   "cell_type": "code",
   "execution_count": 46,
   "id": "23f3f35f-2c0a-4ef3-ba55-c8d50a8fb908",
   "metadata": {},
   "outputs": [
    {
     "name": "stdin",
     "output_type": "stream",
     "text": [
      "enter n 5\n"
     ]
    },
    {
     "name": "stdout",
     "output_type": "stream",
     "text": [
      "120\n"
     ]
    }
   ],
   "source": [
    "fact=1 \n",
    "n=int(input(\"enter n\")) \n",
    "for i in range(n,1,-1):\n",
    "    fact*=i \n",
    "print(fact)"
   ]
  },
  {
   "cell_type": "code",
   "execution_count": 22,
   "id": "919f9b63-a141-412e-8bd8-76e990735d69",
   "metadata": {},
   "outputs": [],
   "source": [
    "#fibonacci series\n",
    "\n",
    "def fib(n):\n",
    "    if n<=0:\n",
    "        return \"invalid\"\n",
    "    elif n==1:\n",
    "        return 0\n",
    "    elif n==2:\n",
    "        return 0,1\n",
    "    else:\n",
    "        return fib(n-1)+fib(n-2)\n",
    "        n=int(input())\n",
    "        print(\"fib series is\",i,fib(n))"
   ]
  },
  {
   "cell_type": "code",
   "execution_count": 14,
   "id": "aada085e-90d3-46b2-83c3-3a1aefcf2a2c",
   "metadata": {},
   "outputs": [
    {
     "name": "stdout",
     "output_type": "stream",
     "text": [
      "node 1 <__main__.node object at 0x0000025BC6597AD0> 1\n",
      "node 2 <__main__.node object at 0x0000025BC65DC6B0> 2\n",
      "node 3 <__main__.node object at 0x0000025BC6597CE0> 3\n",
      "node 4 4\n"
     ]
    }
   ],
   "source": [
    "#linked list \n",
    "\n",
    "class node:\n",
    "    def __init__(self,value):\n",
    "        self.data=value\n",
    "        self.next=None\n",
    "\n",
    "\n",
    "head=node(1)\n",
    "head.next=node(2)\n",
    "head.next.next=node(3)\n",
    "head.next.next.next=node(4)\n",
    "\n",
    "\n",
    "print(\"node 1\",head,head.data)\n",
    "print(\"node 2\",head.next,head.next.data)\n",
    "print(\"node 3\",head.next.next,head.next.next.data)\n",
    "print(\"node 4\",head.next.next.next.data)\n"
   ]
  },
  {
   "cell_type": "code",
   "execution_count": null,
   "id": "30f2dae0-976b-4c87-accf-be1f8370e27e",
   "metadata": {},
   "outputs": [],
   "source": []
  },
  {
   "cell_type": "code",
   "execution_count": null,
   "id": "33e46a45-dfb0-48c4-9bb1-e490a8fd110e",
   "metadata": {},
   "outputs": [],
   "source": []
  }
 ],
 "metadata": {
  "kernelspec": {
   "display_name": "Python 3 (ipykernel)",
   "language": "python",
   "name": "python3"
  },
  "language_info": {
   "codemirror_mode": {
    "name": "ipython",
    "version": 3
   },
   "file_extension": ".py",
   "mimetype": "text/x-python",
   "name": "python",
   "nbconvert_exporter": "python",
   "pygments_lexer": "ipython3",
   "version": "3.12.3"
  }
 },
 "nbformat": 4,
 "nbformat_minor": 5
}

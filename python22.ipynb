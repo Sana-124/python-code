{
 "cells": [
  {
   "cell_type": "code",
   "execution_count": 8,
   "id": "2b329d3c-df9a-46dc-ae4d-99a10193a3ab",
   "metadata": {},
   "outputs": [
    {
     "name": "stdin",
     "output_type": "stream",
     "text": [
      "enter your marks 55\n"
     ]
    },
    {
     "name": "stdout",
     "output_type": "stream",
     "text": [
      "grade is C+\n"
     ]
    }
   ],
   "source": [
    "marks = int(input(\"enter your marks\"))\n",
    "\n",
    "if marks>=90 and marks<100:\n",
    "    print(\"grade is A+\")\n",
    "else:\n",
    "    if marks>=80 and marks<90:\n",
    "        print(\"grade is A\")\n",
    "    else:\n",
    "        if marks>=70 and marks<80:\n",
    "            print(\"grade is B+\")\n",
    "        else:\n",
    "            if marks>=60 and marks<70:\n",
    "                print(\"grade is B\")\n",
    "            else:\n",
    "                if marks>=50 and marks<60:\n",
    "                   print(\"grade is C+\")\n",
    "                else:\n",
    "                   if marks>=40 and marks<50:\n",
    "                      print(\"grade is C\")\n",
    "                   else:\n",
    "                      if marks>=30 and marks<40:\n",
    "                         print(\"grade is D+\")\n",
    "                      else:\n",
    "                          if marks>=20 and marks<30:\n",
    "                             print(\"grade is D+\")\n",
    "                          else:\n",
    "                             if marks>=10 and marks<20:\n",
    "                                 print(\"grade is E\")\n",
    "                             else:\n",
    "                                  if marks>=0 and marks<10:\n",
    "                                     print(\"grade is F\")\n",
    "                                  else:\n",
    "                                     print(\"invalid choice\")\n",
    "                \n",
    "      \n",
    "    \n"
   ]
  },
  {
   "cell_type": "code",
   "execution_count": 11,
   "id": "fc63e935-a981-46a0-962b-885c20ff0f42",
   "metadata": {},
   "outputs": [
    {
     "name": "stdin",
     "output_type": "stream",
     "text": [
      "enter the day number:  20\n"
     ]
    },
    {
     "name": "stdout",
     "output_type": "stream",
     "text": [
      "invalid\n"
     ]
    }
   ],
   "source": [
    "day=int(input(\"enter the day number: \"))\n",
    "\n",
    "match day:\n",
    "     case 1:print(\"mon\")\n",
    "     case 2:print(\"tue\")\n",
    "     case 3:print(\"wed\")\n",
    "     case 4:print(\"thurs\")\n",
    "     case 5:print(\"fri\")\n",
    "     case 6:print(\"sat\")\n",
    "     case 7:print(\"sun\")\n",
    "     case _ if day == 10:\n",
    "            print(\"ten\")\n",
    "     case _ if day >=13 and day<=19:\n",
    "            print(\"teens\")\n",
    "     case _:print(\"invalid\")\n",
    "           \n",
    "              "
   ]
  },
  {
   "cell_type": "code",
   "execution_count": 13,
   "id": "d1f49f94-8c96-49f2-9b7e-f610621cdcd0",
   "metadata": {},
   "outputs": [
    {
     "name": "stdout",
     "output_type": "stream",
     "text": [
      "0\n",
      "1\n",
      "2\n",
      "3\n",
      "4\n",
      "5\n",
      "6\n",
      "7\n",
      "8\n",
      "9\n"
     ]
    }
   ],
   "source": [
    "for x in range(0,10):\n",
    "      print(x)"
   ]
  },
  {
   "cell_type": "code",
   "execution_count": 14,
   "id": "bc76012f-d6b8-4fca-8ee8-37152da85e8f",
   "metadata": {},
   "outputs": [
    {
     "name": "stdout",
     "output_type": "stream",
     "text": [
      "0\n",
      "1\n",
      "2\n",
      "3\n",
      "4\n",
      "5\n",
      "6\n",
      "7\n",
      "8\n",
      "9\n"
     ]
    }
   ],
   "source": [
    "x=0\n",
    "while x<10:\n",
    "    print(x)\n",
    "    x=x+1"
   ]
  },
  {
   "cell_type": "code",
   "execution_count": 24,
   "id": "a6a02816-e834-47d2-a9df-0a8a739b1d0c",
   "metadata": {},
   "outputs": [
    {
     "name": "stdout",
     "output_type": "stream",
     "text": [
      "1\n",
      "3\n",
      "5\n",
      "7\n",
      "9\n"
     ]
    }
   ],
   "source": [
    "for y in range(1,10,2):\n",
    "    print(y)"
   ]
  },
  {
   "cell_type": "code",
   "execution_count": 26,
   "id": "fdfffdf6-b7d4-46ea-96e0-048c301e5ef2",
   "metadata": {},
   "outputs": [
    {
     "name": "stdout",
     "output_type": "stream",
     "text": [
      "**\n",
      "****\n",
      "******\n",
      "********\n",
      "**********\n"
     ]
    }
   ],
   "source": [
    "for y in range(1,10,2):\n",
    "    for x in range(0,y+1):\n",
    "        print(\"*\",end=\"\")\n",
    "    print()    "
   ]
  },
  {
   "cell_type": "code",
   "execution_count": 30,
   "id": "b57a8118-aded-40ba-8ec4-c90bebad8a8a",
   "metadata": {},
   "outputs": [
    {
     "name": "stdout",
     "output_type": "stream",
     "text": [
      "* \n",
      "* * \n",
      "* * * \n",
      "* * * * \n",
      "* * * * * \n"
     ]
    }
   ],
   "source": [
    "for i in range(5):\n",
    "    for j in range (i+1):\n",
    "        print(\"*\",end=' ')\n",
    "    print()\n",
    "    "
   ]
  },
  {
   "cell_type": "code",
   "execution_count": 60,
   "id": "c992e7a1-40a9-4567-a41f-f40feee85876",
   "metadata": {},
   "outputs": [
    {
     "name": "stdin",
     "output_type": "stream",
     "text": [
      " 23\n"
     ]
    },
    {
     "name": "stdout",
     "output_type": "stream",
     "text": [
      "32\n"
     ]
    }
   ],
   "source": [
    "n=int(input())  #reverse a digit of num\n",
    "rev=0\n",
    "while n>0:\n",
    "    rem=n%10\n",
    "    rev=rev*10+rem\n",
    "    n=n//10\n",
    "print(rev)"
   ]
  },
  {
   "cell_type": "code",
   "execution_count": 47,
   "id": "c61a7d3f-93a0-4e39-a9db-e0553709c021",
   "metadata": {},
   "outputs": [
    {
     "name": "stdin",
     "output_type": "stream",
     "text": [
      " 4\n"
     ]
    },
    {
     "name": "stdout",
     "output_type": "stream",
     "text": [
      "not prime\n"
     ]
    }
   ],
   "source": [
    "n=int(input())  #prime or not\n",
    "for i in range(2,n):\n",
    "    if n%i==0:\n",
    "        print(\"not prime\")\n",
    "        break; \n",
    "else:\n",
    "        print(\"is prime\")"
   ]
  },
  {
   "cell_type": "code",
   "execution_count": 63,
   "id": "7ed3e1dd-0471-4d9e-b214-1dee2c4667d6",
   "metadata": {},
   "outputs": [
    {
     "name": "stdin",
     "output_type": "stream",
     "text": [
      " 456\n"
     ]
    },
    {
     "name": "stdout",
     "output_type": "stream",
     "text": [
      "654\n",
      "not palindrome\n"
     ]
    }
   ],
   "source": [
    "n=int(input())  #palindrome of num\n",
    "m=n\n",
    "rev=0\n",
    "while n>0:\n",
    "       rem=n%10\n",
    "       rev=rev*10+rem\n",
    "       n=n//10\n",
    "print(rev)\n",
    "if rev==m:\n",
    "   print(\"palindrome\")\n",
    "else:\n",
    "   print(\"not palindrome\")\n",
    "       "
   ]
  },
  {
   "cell_type": "code",
   "execution_count": 1,
   "id": "bf904c03-e9ed-4932-acdc-3a9cfec85ff9",
   "metadata": {},
   "outputs": [
    {
     "name": "stdin",
     "output_type": "stream",
     "text": [
      " 4\n"
     ]
    },
    {
     "name": "stdout",
     "output_type": "stream",
     "text": [
      "24\n"
     ]
    }
   ],
   "source": [
    "#factorial of num\n",
    "\n",
    "n=int(input())\n",
    "fact=1\n",
    "for i in range(1,n+1): #or (n,0,-1)can be used\n",
    "    fact=fact*i\n",
    "print(fact)"
   ]
  },
  {
   "cell_type": "code",
   "execution_count": 64,
   "id": "26756f25-20be-4a14-b5b5-2ec65b05d950",
   "metadata": {},
   "outputs": [
    {
     "name": "stdin",
     "output_type": "stream",
     "text": [
      "enter the string:  sahana\n"
     ]
    },
    {
     "name": "stdout",
     "output_type": "stream",
     "text": [
      "given string is not palindrome\n"
     ]
    }
   ],
   "source": [
    "a=input(\"enter the string: \") #palindrome of string\n",
    "s=a[::-1]\n",
    "if a==s:\n",
    "    print(\"given string is palindrome\")\n",
    "else:\n",
    "    print(\"given string is not palindrome\")"
   ]
  },
  {
   "cell_type": "code",
   "execution_count": 71,
   "id": "199f795a-781f-4b91-8a09-02b9c47be324",
   "metadata": {},
   "outputs": [
    {
     "name": "stdin",
     "output_type": "stream",
     "text": [
      "enter a character:  ll\n"
     ]
    },
    {
     "name": "stdout",
     "output_type": "stream",
     "text": [
      "lower case\n"
     ]
    }
   ],
   "source": [
    "a=input(\"enter a character: \") #to check char by the user as lower,upper case nd numerics,spl char\n",
    "\n",
    "if a==a.lower():\n",
    "    print(\"lower case\")\n",
    "elif a==a.upper():\n",
    "    print(\"upper case\")"
   ]
  },
  {
   "cell_type": "code",
   "execution_count": 67,
   "id": "7b1a6a95-4f9b-42be-b184-4ca11e8c4556",
   "metadata": {},
   "outputs": [
    {
     "name": "stdin",
     "output_type": "stream",
     "text": [
      " 4\n",
      " 5\n"
     ]
    },
    {
     "name": "stdout",
     "output_type": "stream",
     "text": [
      "1.add\n",
      "2.sub\n",
      "3.mul\n",
      "4.div\n",
      "5.mod\n",
      "6.pow\n",
      "\n"
     ]
    },
    {
     "name": "stdin",
     "output_type": "stream",
     "text": [
      "enter your choice:  3\n"
     ]
    },
    {
     "name": "stdout",
     "output_type": "stream",
     "text": [
      "20\n"
     ]
    }
   ],
   "source": [
    "#menu driven code to perform basic mathematics operations like '+','-','*','/','%','^'\n",
    "\n",
    "a=int(input())\n",
    "b=int(input())\n",
    "print(\"1.add\\n2.sub\\n3.mul\\n4.div\\n5.mod\\n6.pow\\n\")\n",
    "c=int(input(\"enter your choice: \"))\n",
    "match c:\n",
    "      case 1:print(a+b)\n",
    "      case 2:print(a-b)    \n",
    "      case 3:print(a*b)\n",
    "      case 4:print(a/b)\n",
    "      case 5:print(a%b)\n",
    "      case 6:print(a**b) \n",
    "      case _:print(\"invalid\")\n",
    "    "
   ]
  },
  {
   "cell_type": "code",
   "execution_count": null,
   "id": "a363c225-8455-4e26-b040-76417165e1b5",
   "metadata": {},
   "outputs": [],
   "source": []
  }
 ],
 "metadata": {
  "kernelspec": {
   "display_name": "Python 3 (ipykernel)",
   "language": "python",
   "name": "python3"
  },
  "language_info": {
   "codemirror_mode": {
    "name": "ipython",
    "version": 3
   },
   "file_extension": ".py",
   "mimetype": "text/x-python",
   "name": "python",
   "nbconvert_exporter": "python",
   "pygments_lexer": "ipython3",
   "version": "3.12.3"
  }
 },
 "nbformat": 4,
 "nbformat_minor": 5
}

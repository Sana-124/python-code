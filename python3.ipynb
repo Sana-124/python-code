{
 "cells": [
  {
   "cell_type": "code",
   "execution_count": 1,
   "id": "8701ff88-a3e5-4dc4-aa91-c6424f818605",
   "metadata": {},
   "outputs": [
    {
     "name": "stdout",
     "output_type": "stream",
     "text": [
      "[1, 2.3, 'sana']\n",
      "2.3\n"
     ]
    }
   ],
   "source": [
    "a=[1,2.3,'sana']\n",
    "print(a)\n",
    "print(a[1])"
   ]
  },
  {
   "cell_type": "code",
   "execution_count": 21,
   "id": "975dc534-ee95-4496-9edb-53f45e5d38dd",
   "metadata": {},
   "outputs": [
    {
     "name": "stdout",
     "output_type": "stream",
     "text": [
      "34\n",
      "6.66\n",
      "sana\n",
      "0.5\n"
     ]
    }
   ],
   "source": [
    "l=[34,6.66,'sana',0.5]\n",
    "for s in range(0,4):\n",
    "    print(l[s])"
   ]
  },
  {
   "cell_type": "code",
   "execution_count": 22,
   "id": "469435bc-5b5a-44eb-a5c3-4b55fd5084c1",
   "metadata": {},
   "outputs": [
    {
     "name": "stdout",
     "output_type": "stream",
     "text": [
      "<class 'list'>\n"
     ]
    }
   ],
   "source": [
    "print(type(l))"
   ]
  },
  {
   "cell_type": "code",
   "execution_count": 23,
   "id": "4649a4ca-295c-4270-a2ec-3d197978ef7a",
   "metadata": {},
   "outputs": [
    {
     "name": "stdout",
     "output_type": "stream",
     "text": [
      "<class 'float'>\n"
     ]
    }
   ],
   "source": [
    "print(type(l[1]))"
   ]
  },
  {
   "cell_type": "code",
   "execution_count": 24,
   "id": "12b03366-246e-49c0-8d76-39086105f1e6",
   "metadata": {},
   "outputs": [
    {
     "name": "stdout",
     "output_type": "stream",
     "text": [
      "<class 'float'>\n"
     ]
    }
   ],
   "source": [
    "print(type(l[s]))"
   ]
  },
  {
   "cell_type": "code",
   "execution_count": 25,
   "id": "5da386b9-3cdc-412e-bfab-6c0e37cda74b",
   "metadata": {},
   "outputs": [
    {
     "name": "stdout",
     "output_type": "stream",
     "text": [
      "6.66\n"
     ]
    }
   ],
   "source": [
    "print(l[1])"
   ]
  },
  {
   "cell_type": "code",
   "execution_count": null,
   "id": "6e5ac888-b9a4-44a8-b184-9888bfc2f270",
   "metadata": {},
   "outputs": [],
   "source": [
    "-list and its functions-"
   ]
  },
  {
   "cell_type": "code",
   "execution_count": 26,
   "id": "d6557a0a-6e78-44c1-abbd-55b873060403",
   "metadata": {},
   "outputs": [
    {
     "name": "stdout",
     "output_type": "stream",
     "text": [
      "(1, 2)\n"
     ]
    }
   ],
   "source": [
    "a=(1,2)\n",
    "print(a)"
   ]
  },
  {
   "cell_type": "code",
   "execution_count": 28,
   "id": "9cda1b2f-3a1b-4abb-bd5e-d4d5de1e4954",
   "metadata": {},
   "outputs": [
    {
     "name": "stdout",
     "output_type": "stream",
     "text": [
      "[1, 2]\n"
     ]
    }
   ],
   "source": [
    "a=[1,2]\n",
    "b=a.copy()\n",
    "print(b)"
   ]
  },
  {
   "cell_type": "code",
   "execution_count": 29,
   "id": "7ee0cbec-d18f-453e-9965-9432e5264586",
   "metadata": {},
   "outputs": [
    {
     "name": "stdout",
     "output_type": "stream",
     "text": [
      "2\n"
     ]
    }
   ],
   "source": [
    "c=b.pop(1)\n",
    "print(c)"
   ]
  },
  {
   "cell_type": "code",
   "execution_count": 33,
   "id": "b4e4b448-5014-4f4f-b217-293d28cc99e7",
   "metadata": {},
   "outputs": [
    {
     "name": "stdout",
     "output_type": "stream",
     "text": [
      "[1, 10]\n",
      "[1, 10, 10]\n"
     ]
    }
   ],
   "source": [
    "print(b)\n",
    "b.append(10)\n",
    "print(b)"
   ]
  },
  {
   "cell_type": "code",
   "execution_count": 6,
   "id": "c50e2652-9a13-48d8-998e-54bf4ddbc9b7",
   "metadata": {},
   "outputs": [
    {
     "name": "stdout",
     "output_type": "stream",
     "text": [
      "0\n",
      "[1, 10, 10]\n"
     ]
    }
   ],
   "source": [
    "b=[1,10,10]\n",
    "print(b.index(1))\n",
    "print(b)"
   ]
  },
  {
   "cell_type": "code",
   "execution_count": 35,
   "id": "600350d5-3c89-44fc-86bc-748e3e31e5f6",
   "metadata": {},
   "outputs": [
    {
     "name": "stdout",
     "output_type": "stream",
     "text": [
      "1\n"
     ]
    }
   ],
   "source": [
    "print(b.count(1))"
   ]
  },
  {
   "cell_type": "code",
   "execution_count": 36,
   "id": "60397bd0-d7f0-410b-abf3-b94770ec49f0",
   "metadata": {},
   "outputs": [
    {
     "name": "stdout",
     "output_type": "stream",
     "text": [
      "0\n"
     ]
    }
   ],
   "source": [
    "print(b.count(2))"
   ]
  },
  {
   "cell_type": "code",
   "execution_count": 37,
   "id": "19ce2216-09e8-40d0-b4ae-ec78eb6b522d",
   "metadata": {},
   "outputs": [
    {
     "name": "stdout",
     "output_type": "stream",
     "text": [
      "[1, 10, 10, 9]\n"
     ]
    }
   ],
   "source": [
    "b.insert(4,9)\n",
    "print(b)\n"
   ]
  },
  {
   "cell_type": "code",
   "execution_count": 39,
   "id": "5a1819d3-5525-4e27-a0ef-f71dab76fca4",
   "metadata": {},
   "outputs": [
    {
     "name": "stdout",
     "output_type": "stream",
     "text": [
      "[10, 10, 9, 1]\n"
     ]
    }
   ],
   "source": [
    "b.sort(reverse=True)\n",
    "print(b)"
   ]
  },
  {
   "cell_type": "code",
   "execution_count": 40,
   "id": "e41cabb0-8107-42c2-b063-b8ced4d08897",
   "metadata": {},
   "outputs": [
    {
     "name": "stdout",
     "output_type": "stream",
     "text": [
      "4\n"
     ]
    }
   ],
   "source": [
    "print(len(b))"
   ]
  },
  {
   "cell_type": "code",
   "execution_count": 4,
   "id": "4cd6bd3d-39b1-46b6-a51c-569461215839",
   "metadata": {},
   "outputs": [
    {
     "name": "stdout",
     "output_type": "stream",
     "text": [
      "[1, 2, 3, 4, 5, 99]\n"
     ]
    }
   ],
   "source": [
    "a=[4,5,99]\n",
    "b=[1,2,3]\n",
    "b.extend(a)\n",
    "print(b)"
   ]
  },
  {
   "cell_type": "code",
   "execution_count": 5,
   "id": "2f2213a8-24c9-491a-8170-9f03f9067e93",
   "metadata": {},
   "outputs": [
    {
     "name": "stdout",
     "output_type": "stream",
     "text": [
      "[1, 2, 3, 4, 5, 99, 4, 5, 99]\n"
     ]
    }
   ],
   "source": [
    "print(b+a)"
   ]
  },
  {
   "cell_type": "code",
   "execution_count": 6,
   "id": "3ea4af24-b71e-4821-8a24-46f9bec1de0e",
   "metadata": {},
   "outputs": [
    {
     "name": "stdout",
     "output_type": "stream",
     "text": [
      "10\n",
      "20\n",
      "30\n",
      "40\n",
      "50\n",
      "60\n",
      "70\n"
     ]
    }
   ],
   "source": [
    "a=[10,20,30,40,50,60,70]\n",
    "for x in a:\n",
    "    print(x)"
   ]
  },
  {
   "cell_type": "code",
   "execution_count": 10,
   "id": "b5ddc419-db31-45de-bd20-06905df9891e",
   "metadata": {},
   "outputs": [
    {
     "name": "stdin",
     "output_type": "stream",
     "text": [
      "enter the size 3\n",
      " 2\n",
      " 3\n",
      " 4\n"
     ]
    },
    {
     "name": "stdout",
     "output_type": "stream",
     "text": [
      "['2', '3', '4']\n"
     ]
    }
   ],
   "source": [
    "n=int(input(\"enter the size\"))\n",
    "a=[]\n",
    "for x in range(0,n):\n",
    "    x=input()\n",
    "    a.append(x)\n",
    "print(a)"
   ]
  },
  {
   "cell_type": "code",
   "execution_count": 11,
   "id": "d2b7b4fa-7a40-448d-9d45-6e9cfc353d75",
   "metadata": {},
   "outputs": [
    {
     "name": "stdin",
     "output_type": "stream",
     "text": [
      "enter the elements of list:  3\n"
     ]
    },
    {
     "name": "stdout",
     "output_type": "stream",
     "text": [
      "['3']\n"
     ]
    }
   ],
   "source": [
    "l=[item for item in(input(\"enter the elements of list: \").split())]\n",
    "print(l)"
   ]
  },
  {
   "cell_type": "code",
   "execution_count": 13,
   "id": "d98dbd7b-c464-4c8a-94f6-7b965a3b7e39",
   "metadata": {},
   "outputs": [
    {
     "name": "stdin",
     "output_type": "stream",
     "text": [
      "enter the elements of list:  3\n"
     ]
    },
    {
     "name": "stdout",
     "output_type": "stream",
     "text": [
      "[3]\n"
     ]
    }
   ],
   "source": [
    "l=[int(item) for item in (input(\"enter the elements of list: \").split())]\n",
    "print(l)"
   ]
  },
  {
   "cell_type": "code",
   "execution_count": 17,
   "id": "84871780-e9c5-4349-8095-c802d4a7b7d6",
   "metadata": {},
   "outputs": [
    {
     "name": "stdout",
     "output_type": "stream",
     "text": [
      "[3, '2', '3', '4', 1, 2, 3, 4, 5, 99]\n"
     ]
    }
   ],
   "source": [
    "print(l+a+b)"
   ]
  },
  {
   "cell_type": "code",
   "execution_count": 18,
   "id": "4c97e474-cc84-4f41-87f0-684d5fa6dbdc",
   "metadata": {},
   "outputs": [
    {
     "name": "stdout",
     "output_type": "stream",
     "text": [
      "[1, 2, 34, 5]\n"
     ]
    }
   ],
   "source": [
    "a=([1,2,34,5])\n",
    "print(a)"
   ]
  },
  {
   "cell_type": "code",
   "execution_count": 3,
   "id": "496224e4-9d9a-4fdb-a287-6b8a4f0afbf7",
   "metadata": {},
   "outputs": [
    {
     "name": "stdout",
     "output_type": "stream",
     "text": [
      "(1, 2, 'sana')\n",
      "[1, 2, 'sana']\n"
     ]
    },
    {
     "ename": "IndexError",
     "evalue": "list assignment index out of range",
     "output_type": "error",
     "traceback": [
      "\u001b[1;31m---------------------------------------------------------------------------\u001b[0m",
      "\u001b[1;31mIndexError\u001b[0m                                Traceback (most recent call last)",
      "Cell \u001b[1;32mIn[3], line 6\u001b[0m\n\u001b[0;32m      3\u001b[0m b\u001b[38;5;241m=\u001b[39m\u001b[38;5;28mlist\u001b[39m(a)\n\u001b[0;32m      4\u001b[0m \u001b[38;5;28mprint\u001b[39m(b)\n\u001b[1;32m----> 6\u001b[0m \u001b[43mb\u001b[49m\u001b[43m[\u001b[49m\u001b[38;5;241;43m4\u001b[39;49m\u001b[43m]\u001b[49m\u001b[38;5;241m=\u001b[39m\u001b[38;5;124m'\u001b[39m\u001b[38;5;124mpujar\u001b[39m\u001b[38;5;124m'\u001b[39m\n\u001b[0;32m      7\u001b[0m a\u001b[38;5;241m=\u001b[39m\u001b[38;5;28mtuple\u001b[39m(b)\n\u001b[0;32m      8\u001b[0m \u001b[38;5;28mprint\u001b[39m(a)\n",
      "\u001b[1;31mIndexError\u001b[0m: list assignment index out of range"
     ]
    }
   ],
   "source": [
    "a=(1,2,'sana')\n",
    "print(a)\n",
    "b=list(a)\n",
    "print(b)\n",
    "\n",
    "b[4]='pujar'\n",
    "a=tuple(b)\n",
    "print(a)\n",
    "print(a[-2])\n"
   ]
  },
  {
   "cell_type": "code",
   "execution_count": 29,
   "id": "9dc70cdb-4748-4f3a-b528-8a595969fd1c",
   "metadata": {},
   "outputs": [
    {
     "name": "stdout",
     "output_type": "stream",
     "text": [
      "8\n",
      "8\n",
      "7\n",
      "7\n",
      "6\n",
      "5\n",
      "4\n",
      "3\n",
      "2\n",
      "1\n"
     ]
    }
   ],
   "source": [
    "#reverse of list\n",
    "\n",
    "a=(1,2,3,4,5,6,7,7,8,8)                      #or   for x in range(0,len(a)):\n",
    "for x in range(-1,-1*(len(a)+1),-1):               print(a[-1*(x+1)])\n",
    "    print(a[x])"
   ]
  },
  {
   "cell_type": "code",
   "execution_count": 36,
   "id": "477d529f-d35f-4f5c-973a-e51b9844984c",
   "metadata": {},
   "outputs": [
    {
     "name": "stdout",
     "output_type": "stream",
     "text": [
      "{1: 'sana', 2: 'pujar', 3: 'rahul'}\n",
      "pujar\n",
      "dict_keys([1, 2, 3])\n",
      "dict_values(['sana', 'pujar', 'rahul'])\n",
      "dict_items([(1, 'sana'), (2, 'pujar'), (3, 'rahul')])\n",
      "None\n"
     ]
    }
   ],
   "source": [
    "#dict\n",
    "\n",
    "d={1:'sana',2:'pujar',3:'rahul'}\n",
    "print(d)\n",
    "print(d[2])\n",
    "print(d.keys())\n",
    "print(d.values())\n",
    "print(d.items())\n",
    "print(d.get(4))"
   ]
  },
  {
   "cell_type": "code",
   "execution_count": 4,
   "id": "2ed4b3fd-511c-44d3-b7e9-9de54a035be0",
   "metadata": {},
   "outputs": [],
   "source": [
    "### write a prgm to take key nd value as input from the user and add it to the dict if key is not present in dict otherwise print\n",
    "#key already exist and also print its value and print the value\n",
    "\n",
    "    "
   ]
  },
  {
   "cell_type": "code",
   "execution_count": 8,
   "id": "6b8f9442-9bc9-4093-84a6-15b97491b20f",
   "metadata": {},
   "outputs": [
    {
     "name": "stdin",
     "output_type": "stream",
     "text": [
      " 2\n",
      " 0\n"
     ]
    },
    {
     "name": "stdout",
     "output_type": "stream",
     "text": [
      "div cannot possible\n",
      "2.0\n",
      "error handled\n",
      "we hav received result as:   2.0\n"
     ]
    }
   ],
   "source": [
    "a=int(input())\n",
    "b=int(input())\n",
    "try:\n",
    "    c=a/b\n",
    "except:\n",
    "     print(\"div cannot possible\")\n",
    "     print(c)\n",
    "else:\n",
    "    print(\"div successful\")\n",
    "    print(c)\n",
    "finally:\n",
    "    print(\"error handled\")\n",
    "\n",
    "print(\"we hav received result as:  \", c)\n"
   ]
  },
  {
   "cell_type": "code",
   "execution_count": 7,
   "id": "02232959-a09f-44de-9eb7-3402f2b58173",
   "metadata": {},
   "outputs": [
    {
     "name": "stdin",
     "output_type": "stream",
     "text": [
      "enter the index 5\n"
     ]
    },
    {
     "name": "stdout",
     "output_type": "stream",
     "text": [
      "there is no index\n"
     ]
    }
   ],
   "source": [
    "#create a list of n num and ask the user for the index values and print the num\n",
    "\n",
    "l=[12,33.4,66,89]\n",
    "i=int(input('enter the index'))\n",
    "try:\n",
    "    print(a[i])\n",
    "except:\n",
    "    print('there is no index')\n"
   ]
  },
  {
   "cell_type": "code",
   "execution_count": 19,
   "id": "aaf0a477-d6d6-4bec-8b27-1c074fde7ce7",
   "metadata": {},
   "outputs": [
    {
     "name": "stdin",
     "output_type": "stream",
     "text": [
      " 10\n",
      " 3\n"
     ]
    },
    {
     "name": "stdout",
     "output_type": "stream",
     "text": [
      "some unknown error found\n",
      "code execution done\n"
     ]
    }
   ],
   "source": [
    "try:\n",
    "    a=input()\n",
    "    b=input()\n",
    "    c=int(a)/int(b)\n",
    "    x='hello'/3\n",
    "except ValueError:\n",
    "    print(\"value unable to convert\")\n",
    "except ZeroDivisionError:\n",
    "    print(\"cant divide by zero\")\n",
    "except:\n",
    "    print(\"some unknown error found\")\n",
    "else:\n",
    "    print(\" no error\")\n",
    "finally:\n",
    "    print(\"code execution done\")"
   ]
  },
  {
   "cell_type": "code",
   "execution_count": null,
   "id": "7a9e24c6-51c7-4e3c-aca1-35ea71444568",
   "metadata": {},
   "outputs": [],
   "source": []
  }
 ],
 "metadata": {
  "kernelspec": {
   "display_name": "Python 3 (ipykernel)",
   "language": "python",
   "name": "python3"
  },
  "language_info": {
   "codemirror_mode": {
    "name": "ipython",
    "version": 3
   },
   "file_extension": ".py",
   "mimetype": "text/x-python",
   "name": "python",
   "nbconvert_exporter": "python",
   "pygments_lexer": "ipython3",
   "version": "3.12.3"
  }
 },
 "nbformat": 4,
 "nbformat_minor": 5
}

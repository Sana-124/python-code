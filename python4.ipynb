{
 "cells": [
  {
   "cell_type": "code",
   "execution_count": null,
   "id": "86ba0ff5-6945-4fbb-839e-f19852577a97",
   "metadata": {},
   "outputs": [],
   "source": [
    "if __name__=='__main__':\n",
    "    filename = 'example.txt'\n",
    "    new_filename = 'new_example.txt'\n",
    "\n",
    "create_file(filename)\n",
    "read_file(filename)\n",
    "append_file(filename)\n",
    "remove_file(filename)\n",
    "rename_file(filename)"
   ]
  },
  {
   "cell_type": "code",
   "execution_count": 35,
   "id": "138f0702-308e-47c0-a5fb-89dc46368ab8",
   "metadata": {},
   "outputs": [],
   "source": [
    "import os\n",
    "\n",
    "with open(\"file1.txt\",'w')as f:\n",
    "    f.write(\"this is first txt in file\\n\")\n",
    "    f.close()\n",
    "    "
   ]
  },
  {
   "cell_type": "code",
   "execution_count": 36,
   "id": "ba2edb04-4e2c-4acb-bb4b-0c41167163b2",
   "metadata": {},
   "outputs": [],
   "source": [
    "import os \n",
    "\n",
    "with open(\"file2.txt\",'a')as f:\n",
    "    f.write(\"this is second txt in file\\n\")\n",
    "    \n",
    "    \n",
    "\n"
   ]
  },
  {
   "cell_type": "code",
   "execution_count": 2,
   "id": "438b2da5-4c7f-40cb-833e-3ce347ceb1a1",
   "metadata": {},
   "outputs": [
    {
     "ename": "TypeError",
     "evalue": "remove() takes exactly 1 positional argument (2 given)",
     "output_type": "error",
     "traceback": [
      "\u001b[1;31m---------------------------------------------------------------------------\u001b[0m",
      "\u001b[1;31mTypeError\u001b[0m                                 Traceback (most recent call last)",
      "Cell \u001b[1;32mIn[2], line 3\u001b[0m\n\u001b[0;32m      1\u001b[0m \u001b[38;5;28;01mimport\u001b[39;00m \u001b[38;5;21;01mos\u001b[39;00m\n\u001b[1;32m----> 3\u001b[0m \u001b[43mos\u001b[49m\u001b[38;5;241;43m.\u001b[39;49m\u001b[43mremove\u001b[49m\u001b[43m(\u001b[49m\u001b[38;5;124;43m\"\u001b[39;49m\u001b[38;5;124;43mfile1.txt\u001b[39;49m\u001b[38;5;124;43m\"\u001b[39;49m\u001b[43m,\u001b[49m\u001b[38;5;124;43m'\u001b[39;49m\u001b[38;5;124;43mw\u001b[39;49m\u001b[38;5;124;43m'\u001b[39;49m\u001b[43m)\u001b[49m\n",
      "\u001b[1;31mTypeError\u001b[0m: remove() takes exactly 1 positional argument (2 given)"
     ]
    }
   ],
   "source": [
    "import os\n",
    "\n",
    "os.remove(\"file1.txt\",'w')"
   ]
  },
  {
   "cell_type": "code",
   "execution_count": 38,
   "id": "24db287d-9de4-4449-8656-5b680a1c939e",
   "metadata": {},
   "outputs": [
    {
     "name": "stdout",
     "output_type": "stream",
     "text": [
      "this is second txt in filethis is second txt in file\n",
      "111\n",
      "this is second txt in file\n",
      "111\n",
      "this is second txt in file\n",
      "111\n",
      "\n",
      "111\n"
     ]
    }
   ],
   "source": [
    "import os\n",
    "with open(\"file2.txt\",'r') as f:\n",
    "    for a in f.read().split(\"\\n\"):\n",
    "        print(a)\n",
    "        print(\"111\")\n",
    "\n",
    "    f.close()"
   ]
  },
  {
   "cell_type": "code",
   "execution_count": null,
   "id": "bd2d8b29-007b-4326-84a5-32ffe2656579",
   "metadata": {},
   "outputs": [],
   "source": [
    "#w-write\n",
    "#r - read\n",
    "#a - append\n",
    "#w+ - write nd read\n",
    "#r+ - read nd write\n",
    "#a+ - append nd read"
   ]
  },
  {
   "cell_type": "code",
   "execution_count": 2,
   "id": "9e943728-79fb-473e-83eb-0ded40301844",
   "metadata": {},
   "outputs": [
    {
     "name": "stdin",
     "output_type": "stream",
     "text": [
      "enter fruit names:  apple banana grapes cherry\n"
     ]
    }
   ],
   "source": [
    "import os\n",
    "with open(\"fruit.txt\",'w')as f:\n",
    "     fruits=input(\"enter fruit names: \").split()\n",
    "    \n",
    "     for fruit in fruits:\n",
    "          f.write(fruit +\"\\n\")\n",
    "\n",
    "with open(\"fruit.txt\",'r+')as f:\n",
    "    fruits=fruitreadlines()\n",
    "    \n",
    "    \n",
    "\n"
   ]
  },
  {
   "cell_type": "code",
   "execution_count": null,
   "id": "9a5ffe53-df82-44cc-a78d-6178ce6052c7",
   "metadata": {},
   "outputs": [
    {
     "name": "stdout",
     "output_type": "stream",
     "text": [
      "apple\n",
      "banana\n",
      "grapes\n",
      "cherry\n",
      "\n"
     ]
    },
    {
     "name": "stdin",
     "output_type": "stream",
     "text": [
      "enter the name you want to replace:  banana\n"
     ]
    }
   ],
   "source": [
    "import os\n",
    "with open(\"fruit.txt\",'r')as f:\n",
    "    x=f.read()\n",
    "    print(x)\n",
    "    a=input(\"enter the name you want to replace: \")\n",
    "    b=input(\"enter the new item: \")\n",
    "    x=x.replace(a,b)\n",
    "    \n",
    "    \n",
    "    \n",
    "    "
   ]
  },
  {
   "cell_type": "code",
   "execution_count": null,
   "id": "334033ea-e1e8-4bbb-820e-350fb7b5c9da",
   "metadata": {},
   "outputs": [],
   "source": []
  }
 ],
 "metadata": {
  "kernelspec": {
   "display_name": "Python 3 (ipykernel)",
   "language": "python",
   "name": "python3"
  },
  "language_info": {
   "codemirror_mode": {
    "name": "ipython",
    "version": 3
   },
   "file_extension": ".py",
   "mimetype": "text/x-python",
   "name": "python",
   "nbconvert_exporter": "python",
   "pygments_lexer": "ipython3",
   "version": "3.12.3"
  }
 },
 "nbformat": 4,
 "nbformat_minor": 5
}

{
 "cells": [
  {
   "cell_type": "code",
   "execution_count": 6,
   "id": "af6a217d-6382-45cb-a4b6-9fd42e9c1830",
   "metadata": {},
   "outputs": [
    {
     "name": "stdout",
     "output_type": "stream",
     "text": [
      "configuration of the laptop is: \n",
      "processor i5\n",
      "ram 8\n",
      "storage 512\n"
     ]
    }
   ],
   "source": [
    "#create a laptop class with variable as processor,Ram  nd storage \n",
    "#create function to print the configuration of the laptop \n",
    "#create 3 objects of laptop with diffferent brand nd display its configuration\n",
    "\n",
    "class laptop:\n",
    "    def __init__(self,p,r,s):\n",
    "        self.processor=p\n",
    "        self.ram=r\n",
    "        self.storage=s\n",
    "\n",
    "    def config(self):\n",
    "       print(\"configuration of the laptop is: \")\n",
    "       print(\"processor\",self.processor)\n",
    "       print(\"ram\",self.ram)\n",
    "       print(\"storage\",self.storage)\n",
    "\n",
    "if __name__==\"__main__\":\n",
    "    hp=laptop(\"i5\",8,512)\n",
    "    hp.config()\n",
    "\n",
    "\n",
    "\n",
    "\n",
    "\n"
   ]
  },
  {
   "cell_type": "code",
   "execution_count": 15,
   "id": "3750988b-28d4-4bce-bc41-7a7064e63d36",
   "metadata": {},
   "outputs": [
    {
     "name": "stdout",
     "output_type": "stream",
     "text": [
      "marks of the student is: \n",
      "english 78\n",
      "kannada 56\n",
      "maths 89\n",
      "science 90\n",
      "social 99\n",
      "82.4\n"
     ]
    }
   ],
   "source": [
    "#create a class student which can hold the mrks in 5 sub nd also create a function to print the marks and calculate the avg \n",
    "#of 5 subjects\n",
    "\n",
    "class student:\n",
    "    def __init__(self,eng,kan,math,sci,soc):\n",
    "        self.english=eng\n",
    "        self.kannada=kan\n",
    "        self.maths=math\n",
    "        self.science=sci\n",
    "        self.social=soc\n",
    "\n",
    "    def marks(self):\n",
    "        print(\"marks of the student is: \")\n",
    "        print(\"english\",self.english)\n",
    "        print(\"kannada\",self.kannada)\n",
    "        print(\"maths\",self.maths)\n",
    "        print(\"science\",self.science)\n",
    "        print(\"social\",self.social)\n",
    "\n",
    "if __name__=='__main__':\n",
    "    m=student(78,56,89,90,99)\n",
    "    m.marks()\n",
    "    avg=(78+56+89+90+99)/5\n",
    "    print(avg)\n",
    "\n",
    "    "
   ]
  },
  {
   "cell_type": "code",
   "execution_count": 16,
   "id": "a24f5017-3737-4680-82cf-309602f037ac",
   "metadata": {},
   "outputs": [
    {
     "name": "stdout",
     "output_type": "stream",
     "text": [
      "2\n",
      "3\n",
      "4\n"
     ]
    }
   ],
   "source": [
    " #access modifiers\n",
    "#public_normal\n",
    "#private\n",
    "#protected\n",
    "\n",
    "class demo:\n",
    "    def __init__(self,a,b,c):\n",
    "        self.x=a\n",
    "        self._y=b\n",
    "        self.__z=c\n",
    "    def output_Z(self):\n",
    "        print(self.__z)\n",
    "    def output_X(self):\n",
    "        print(self.x)\n",
    "    def output_Y(self):\n",
    "        print(self._y)\n",
    "\n",
    "ob1=demo(2,3,4)\n",
    "ob1.output_X()\n",
    "ob1.output_Y()\n",
    "ob1.output_Z()\n",
    "    \n"
   ]
  },
  {
   "cell_type": "code",
   "execution_count": 20,
   "id": "1e7b7e6b-359c-419b-b592-2b479079c6e4",
   "metadata": {},
   "outputs": [
    {
     "name": "stdout",
     "output_type": "stream",
     "text": [
      "this is fun1\n",
      "this is fun2\n",
      "this is fun3\n",
      "this is fun4\n",
      "this is fun1\n"
     ]
    }
   ],
   "source": [
    "class a:\n",
    "    def fun1(self):\n",
    "        print(\"this is fun1\")\n",
    "    def fun2(self):\n",
    "        print(\"this is fun2\")\n",
    "\n",
    "class a(b):\n",
    "    def fun3(self):\n",
    "        print(\"this is fun3\")\n",
    "    def fun4(self):\n",
    "        print(\"this is fun4\")\n",
    "\n",
    "if __name__==\"__main__\":\n",
    "    ob1=a()\n",
    "    ob2=b()\n",
    "\n",
    "    ob1.fun1()\n",
    "    ob1.fun2()\n",
    "    ob2.fun3()\n",
    "    ob2.fun4()\n",
    "    ob1.fun1()\n",
    "\n",
    "\n",
    "\n"
   ]
  },
  {
   "cell_type": "code",
   "execution_count": 19,
   "id": "4d503dda-fcc7-457a-b032-e00cee223a91",
   "metadata": {},
   "outputs": [
    {
     "name": "stdout",
     "output_type": "stream",
     "text": [
      "constructor of class C\n",
      "fun of class C with 1 5\n",
      "fun of class C with 1 2\n"
     ]
    }
   ],
   "source": [
    "class c:\n",
    "    def __init__(self):\n",
    "        print(\"constructor of class C\")\n",
    "    def abc(self,a,b=5):\n",
    "        print(\"fun of class C with\",a,b)\n",
    "ob=c()\n",
    "ob.abc(1)\n",
    "ob.abc(1,2)"
   ]
  },
  {
   "cell_type": "code",
   "execution_count": 10,
   "id": "ca2e54f0-b48a-4816-974d-aa394ec608d4",
   "metadata": {},
   "outputs": [
    {
     "name": "stdout",
     "output_type": "stream",
     "text": [
      "professional laptop having i5 8 512 6hrs\n",
      "gaming laptop having i5 8 512 2\n"
     ]
    }
   ],
   "source": [
    "class laptop:\n",
    "    def __init__(self,p,r,s):\n",
    "        self.processor=p\n",
    "        self.ram=r\n",
    "        self.storage=s\n",
    "\n",
    "class professional_laptop(laptop):\n",
    "    def __init__(self,b,p,r,s):\n",
    "        self.batterybackup=b\n",
    "        super().__init__(p,r,s)\n",
    "\n",
    "class gaming_laptop(laptop):\n",
    "    def __init__(self,g,p,r,s):\n",
    "        self.graphiccard=g\n",
    "        super().__init__(p,r,s)\n",
    "\n",
    "pro1=professional_laptop(\"6hrs\",\"i5\",8,512)\n",
    "gam1=gaming_laptop(2,\"i5\",8,512)\n",
    "print(\"professional laptop having\",pro1.processor,pro1.ram,pro1.storage,pro1.batterybackup)\n",
    "print(\"gaming laptop having\",gam1.processor,gam1.ram,gam1.storage,gam1.graphiccard)"
   ]
  },
  {
   "cell_type": "code",
   "execution_count": 7,
   "id": "8618dd18-8644-47c0-babd-210048bccc11",
   "metadata": {},
   "outputs": [
    {
     "name": "stdout",
     "output_type": "stream",
     "text": [
      "ticket booked fareprice will be: 6550\n"
     ]
    }
   ],
   "source": [
    "#Write a Program to demonstrate the working of a railway ticket booking.\n",
    "\n",
    "#Create required classes like\n",
    "\n",
    "#ticket class | general ticket | sleeper ticket | AC ticket | first class ticket.\n",
    "\n",
    "#show the uses of inheritance in this and create a proper ticket bookin model for Indian railway.\n",
    "\n",
    "#After booking the ticket you have to Show the Final Ticket price to th customer\n",
    "\n",
    "#consider only 3 Source and destination as\n",
    "\n",
    "#A 500kms | B 600kms | C 400kms\n",
    "\n",
    "#Booking charges: 50 | Distance Charges: 2/km |\n",
    "\n",
    "#Sleeper Charges: 2/km | AC charges: 4/km | first class charges: 5/km\n",
    "\n",
    "\n",
    "class ticket:\n",
    "    \n",
    "    def __init__(self,D):\n",
    "        self.distance=int(D)\n",
    "        self.fareprice=None\n",
    "\n",
    "class gen(ticket):\n",
    "    def __init__(self,D):\n",
    "        super().__init__(D)\n",
    "    def print_ticket(self):\n",
    "        self.fareprice=50+(self.distance*2)\n",
    "        return self.fareprice\n",
    "        \n",
    "class slp(gen):\n",
    "    def __init__(self,D):\n",
    "        super().__init__(D)\n",
    "    def print_ticket(self):\n",
    "        self.fareprice=super().print_ticket()+(2*self.distance)\n",
    "        return self.fareprice\n",
    "        \n",
    "class ac(slp):\n",
    "    def __init__(self,D):\n",
    "        super().__init__(D)\n",
    "    def print_ticket(self):\n",
    "        self.fareprice=super().print_ticket()+(4*self.distance)\n",
    "        return self.fareprice\n",
    "        \n",
    "\n",
    "class fc(ac):\n",
    "     def __init__(self,D):\n",
    "        super().__init__(D)\n",
    "     def print_ticket(self):\n",
    "        self.fareprice=super().print_ticket()+(5*self.distance)\n",
    "        return self.fareprice\n",
    "\n",
    "jur=fc(500)\n",
    "print(\"ticket booked fareprice will be:\",jur.print_ticket())\n",
    "\n",
    "        \n",
    "   \n",
    "\n",
    "    "
   ]
  },
  {
   "cell_type": "code",
   "execution_count": null,
   "id": "9d185dbf-ce8e-4de5-9f7d-dd2f4c753db2",
   "metadata": {},
   "outputs": [],
   "source": []
  }
 ],
 "metadata": {
  "kernelspec": {
   "display_name": "Python 3 (ipykernel)",
   "language": "python",
   "name": "python3"
  },
  "language_info": {
   "codemirror_mode": {
    "name": "ipython",
    "version": 3
   },
   "file_extension": ".py",
   "mimetype": "text/x-python",
   "name": "python",
   "nbconvert_exporter": "python",
   "pygments_lexer": "ipython3",
   "version": "3.12.3"
  }
 },
 "nbformat": 4,
 "nbformat_minor": 5
}
